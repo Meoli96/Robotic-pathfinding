{
 "cells": [
  {
   "cell_type": "markdown",
   "metadata": {},
   "source": [
    "# Rover project\n",
    "Roberto Lucchesi - 1744941"
   ]
  },
  {
   "cell_type": "markdown",
   "metadata": {},
   "source": [
    "# Introduction"
   ]
  },
  {
   "cell_type": "code",
   "execution_count": 1,
   "metadata": {},
   "outputs": [],
   "source": [
    "import numpy as np\n",
    "import matplotlib.pyplot as plt\n",
    "# custom modules\n",
    "from graph import *\n",
    "from AStar import *\n",
    "from grid import *\n",
    "from traj_gen import *\n",
    "\n",
    "\n",
    "dataFolder = \"data/\"\n",
    "\n",
    "### load data from csv file\n",
    "\n",
    "\n",
    "# landmarks coordinates\n",
    "Xlm = np.loadtxt(dataFolder +\"Xlm.csv\")\n",
    "Ylm = np.loadtxt(dataFolder +\"Ylm.csv\")\n",
    "pos_lm = np.array([Xlm, Ylm]).T # landmark positions\n",
    "\n",
    "# map and obstacle map\n",
    "mars_map = np.loadtxt(dataFolder +\"map.csv\", delimiter=\",\")\n",
    "obstacle_map = np.loadtxt(dataFolder +\"obstacle.csv\", delimiter=\",\")\n",
    "\n",
    "\n",
    "## Constants of the problem\n",
    "maxVel = 0.5; # [m/s] maximum velocity of the rover \n",
    "LAxis = 1; # [m] length of the rover wheel axis\n",
    "\n",
    "\n",
    "\n",
    "# Create mars_grid (45kmx30km, 10m resolution)\n",
    "mars_grid = Grid(xlim = 45000, ylim = 30000, res = 10, \n",
    "            image = mars_map, obstacle = obstacle_map, \n",
    "            landmarks = pos_lm, corner = 'll') \n",
    "\n",
    "\n",
    "#plt.imshow(np.flipud(mars_grid.map), cmap='gray')\n",
    "#plt.gca().invert_yaxis()\n",
    "#plt.show()"
   ]
  },
  {
   "cell_type": "markdown",
   "metadata": {},
   "source": [
    "# Task 1\n",
    "- 1.1) Plot the trajectory of the rover in the map from P0 = (42.38, 11.59)km to P1 = (33.07,19.01)km\n",
    "- 1.2) Plot the velocity profile of the rover\n",
    "- 1.3) Plot the steering angle profile of the rover\n",
    "- 1.4) Plot the rate of change of the steering angle profile of the rover"
   ]
  },
  {
   "cell_type": "code",
   "execution_count": 2,
   "metadata": {},
   "outputs": [
    {
     "data": {
      "image/png": "[encoded data removed]",
      "text/plain": [
       "<Figure size 640x480 with 1 Axes>"
      ]
     },
     "metadata": {},
     "output_type": "display_data"
    }
   ],
   "source": [
    "### TASK 1 ### --2.8s average runtime\n",
    "P0 = (42.38*10**3, 11.59*10**3)\n",
    "P1 = (33.07*10**3, 19.01*10**3)\n",
    "\n",
    "\n",
    "## 1.1) Plot the trajectory of the rover in the map\n",
    "\n",
    "# Create path with A*\n",
    "path, gScore = AStar(mars_grid, P0, P1)\n",
    "graph = Graph(path, mars_grid)\n",
    "plt.figure(0)\n",
    "plt.plot(np.diff(graph.directions))\n",
    "plt.show()\n",
    "\n",
    "\n",
    "\n",
    "# Get the trajectory of the rover\n",
    "\n",
    "\n",
    "# 1.2) Plot the velocity profile of the rover\n",
    "# 1.3) Plot the steering angle profile of the rover\n",
    "# 1.4) Plot the rate of change of the steering angle profile of the rover"
   ]
  },
  {
   "cell_type": "code",
   "execution_count": 3,
   "metadata": {},
   "outputs": [],
   "source": [
    "## Plot TASK 1\n",
    "\n",
    "new_graph = shorten_path(graph, 0,0)\n",
    "\n",
    "\n",
    "# Plot path\n",
    "path_coords = [(node[0], node[1]) for node in path]\n",
    "for coord in path_coords:\n",
    "    plt.plot(coord[0]/10, coord[1]/10, 'b.',  markersize=1)\n",
    "\n",
    "plt.imshow(np.flipud(mars_grid.map), cmap='gray')\n",
    "plt.gca().invert_yaxis()\n",
    "\n",
    "plt.plot(P0[0]/10, P0[1]/10, 'bo')\n",
    "plt.plot(P1[0]/10, P1[1]/10, 'ro')\n",
    "plt.show()\n",
    "print(\"gScore: \", gScore)"
   ]
  },
  {
   "cell_type": "markdown",
   "metadata": {},
   "source": [
    "# Task 2"
   ]
  },
  {
   "cell_type": "code",
   "execution_count": null,
   "metadata": {},
   "outputs": [],
   "source": [
    "### TASK 2 ### -- 3min average runtime\n",
    "# Go from P1 to P2\n",
    "\n",
    "P2 = (10.87*10**3, 25.67*10**3)\n",
    "path2, gScore2 = AStar(mars_grid, P1, P2) # Run A* from P1 to P2\n"
   ]
  },
  {
   "cell_type": "code",
   "execution_count": null,
   "metadata": {},
   "outputs": [],
   "source": [
    "graph2 = Graph(path2, mars_grid)\n",
    "plt.figure(0)\n",
    "diff_abs = [abs(graph2.diff_arr[i]) for i in range(len(graph2.diff_arr))]\n",
    "plt.plot(diff_abs)\n",
    "plt.show()\n"
   ]
  },
  {
   "cell_type": "code",
   "execution_count": null,
   "metadata": {},
   "outputs": [],
   "source": [
    "## Plot TASK 2\n",
    "\n",
    "# Plot path\n",
    "\n",
    "\n",
    "\n",
    "path_coords2 = [(node[0], node[1]) for node in path2]\n",
    "for coord in path_coords: # path 1\n",
    "    plt.plot(coord[0]/10, coord[1]/10, 'b.',  markersize=1)\n",
    "for coord in path_coords2: # path 2\n",
    "    plt.plot(coord[0]/10, coord[1]/10, 'r.',  markersize=1)\n",
    "    \n",
    "plt.imshow(np.flipud(mars_grid.map), cmap='gray')\n",
    "plt.gca().invert_yaxis()\n",
    "plt.plot(P0[0]/10, P0[1]/10, 'bo')\n",
    "plt.plot(P1[0]/10, P1[1]/10, 'ro')\n",
    "plt.plot(P2[0]/10, P2[1]/10, 'go')\n",
    "plt.show()\n",
    "print(\"gScore: \", gScore2)\n"
   ]
  }
 ],
 "metadata": {
  "kernelspec": {
   "display_name": ".venv",
   "language": "python",
   "name": "python3"
  },
  "language_info": {
   "codemirror_mode": {
    "name": "ipython",
    "version": 3
   },
   "file_extension": ".py",
   "mimetype": "text/x-python",
   "name": "python",
   "nbconvert_exporter": "python",
   "pygments_lexer": "ipython3",
   "version": "3.11.7"
  }
 },
 "nbformat": 4,
 "nbformat_minor": 2
}
