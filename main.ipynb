{
 "cells": [
  {
   "cell_type": "code",
   "execution_count": 1,
   "metadata": {},
   "outputs": [],
   "source": [
    "import scipy.io as sio\n",
    "import numpy as np\n",
    "import csv\n",
    "import matplotlib.pyplot as plt\n",
    "from graph import *\n",
    "from utils import *\n",
    "from AStar import *\n",
    "\n",
    "dataFolder = \"data/\"\n",
    "\n",
    "### load data from csv file\n",
    "# X, Y\n",
    "\n",
    "\n",
    "#[X, Y] = grid_generator([0, 4500], [0, 3000], 10) # 45km x 30km grid, 10m resolution [0,0] top left\n",
    "\n",
    "# landmarks coordinates\n",
    "Xlm = np.loadtxt(dataFolder +\"Xlm.csv\")\n",
    "Ylm = np.loadtxt(dataFolder +\"Ylm.csv\")\n",
    "pos_lm = np.array([Xlm, Ylm]).T"
   ]
  },
  {
   "cell_type": "code",
   "execution_count": 2,
   "metadata": {},
   "outputs": [],
   "source": [
    "\n",
    "# create list of landmark nodes\n",
    "landmark_nodes = []\n",
    "for i in range(len(Xlm)):\n",
    "    landmark_nodes.append(Node(pos_lm[i]))\n",
    "\n",
    "\n",
    "# Xvec, Yvec, [0, 0] on bottom left\n",
    "X = np.arange(0, 45000, 10) # 45km x 30km grid, 10m resolution [0,0] bottom left\n",
    "Y = np.arange(0, 30000, 10)[::-1] # Mi serve reversato?\n",
    "\n",
    "\n",
    "# map and obstacle map\n",
    "mars_map = np.loadtxt(dataFolder +\"map.csv\", delimiter=\",\")\n",
    "obstacle_map = np.loadtxt(dataFolder +\"obstacle.csv\", delimiter=\",\")\n",
    "\n",
    "## Constants of the problem\n",
    "\n",
    "maxVel = 0.5; # [m/s] maximum velocity of the rover \n",
    "LAxis = 1; # [m] length of the rover wheel axis\n",
    "###"
   ]
  },
  {
   "cell_type": "code",
   "execution_count": 3,
   "metadata": {},
   "outputs": [],
   "source": [
    "### TASK 1 ###\n",
    "\n",
    "# Initial and target position need to be coordinates in the grid\n",
    "P0 = np.array([42.38*10**3, 11.59*10**3, 90])  # initial position, [m, m, deg]\n",
    "[j0, i0] = coord2ij(P0[0], P0[1], X[0], Y[0])\n",
    "P_target = np.array([33.07*10**3, 19.01*10**3, 180])  # target position, [m, m, deg]\n",
    "[j_target, i_target] = coord2ij(P_target[0], P_target[1], X[0], Y[0])\n",
    "\n",
    "# Initial and target nodes in the grid\n",
    "P0 = np.array([X[i0], Y[j0], P0[2]])  # initial position, [m, m, deg]\n",
    "P_target = np.array([X[i_target], Y[j_target], P_target[2]])  # target position, [m, m, deg]\n",
    "\n",
    "# Initial and target nodes\n",
    "node0 = Node(P0)\n",
    "node_target = Node(P_target)\n",
    "\n",
    "## 1.1) Plot the trajectory of the rover in the map\n",
    "plt.figure(1)\n",
    "plt.title(\"Path of the rover\")\n",
    "\n",
    "# Create path with A*\n",
    "path = Astar(node0, node_target, obstacle_map)\n",
    "# Plot path\n",
    "path_coords = [(node.pos[0], node.pos[1]) for node in path]\n",
    "for i in range(len(path_coords)-1):\n",
    "    plt.plot([path_coords[i][0], path_coords[i+1][0]], [path_coords[i][1], path_coords[i+1][1]], 'r')\n",
    "\n",
    "plt.imshow(mars_map, cmap='gray', origin='lower')\n",
    "\n",
    "# 1.2) Plot the velocity profile of the rover\n",
    "# 1.3) Plot the steering angle profile of the rover\n",
    "# 1.4) Plot the rate of change of the steering angle profile of the rover\n"
   ]
  },
  {
   "cell_type": "code",
   "execution_count": null,
   "metadata": {},
   "outputs": [],
   "source": [
    "### TASK 2 ###\n"
   ]
  }
 ],
 "metadata": {
  "kernelspec": {
   "display_name": ".venv",
   "language": "python",
   "name": "python3"
  },
  "language_info": {
   "codemirror_mode": {
    "name": "ipython",
    "version": 3
   },
   "file_extension": ".py",
   "mimetype": "text/x-python",
   "name": "python",
   "nbconvert_exporter": "python",
   "pygments_lexer": "ipython3",
   "version": "3.11.7"
  }
 },
 "nbformat": 4,
 "nbformat_minor": 2
}
