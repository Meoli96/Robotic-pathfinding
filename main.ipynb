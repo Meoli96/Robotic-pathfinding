{
 "cells": [
  {
   "cell_type": "code",
   "execution_count": 1,
   "metadata": {},
   "outputs": [],
   "source": [
    "import scipy.io as sio\n",
    "import numpy as np\n",
    "import csv\n",
    "import matplotlib.pyplot as plt\n",
    "from graph import *\n",
    "from utils import *\n",
    "from AStar import *\n",
    "\n",
    "dataFolder = \"data/\"\n",
    "\n",
    "### load data from csv file\n",
    "# X, Y\n",
    "\n",
    "\n",
    "#[X, Y] = grid_generator([0, 4500], [0, 3000], 10) # 45km x 30km grid, 10m resolution [0,0] top left\n",
    "\n",
    "# landmarks coordinates\n",
    "Xlm = np.loadtxt(dataFolder +\"Xlm.csv\")\n",
    "Ylm = np.loadtxt(dataFolder +\"Ylm.csv\")\n",
    "pos_lm = np.array([Xlm, Ylm]).T"
   ]
  },
  {
   "cell_type": "code",
   "execution_count": 2,
   "metadata": {},
   "outputs": [],
   "source": [
    "\n",
    "# create list of landmark nodes\n",
    "landmark_nodes = []\n",
    "for i in range(len(Xlm)):\n",
    "    landmark_nodes.append(Node(pos_lm[i]))\n",
    "\n",
    "\n",
    "# Xvec, Yvec, [0, 0] on bottom left\n",
    "X = np.arange(0, 45000, 10) # 45km x 30km grid, 10m resolution [0,0] bottom left\n",
    "Y = np.arange(0, 30000, 10)[::-1] # Mi serve reversato?\n",
    "\n",
    "\n",
    "# map and obstacle map\n",
    "mars_map = np.loadtxt(dataFolder +\"map.csv\", delimiter=\",\")\n",
    "obstacle_map = np.loadtxt(dataFolder +\"obstacle.csv\", delimiter=\",\")\n",
    "\n",
    "## Constants of the problem\n",
    "\n",
    "maxVel = 0.5; # [m/s] maximum velocity of the rover \n",
    "LAxis = 1; # [m] length of the rover wheel axis\n",
    "###"
   ]
  },
  {
   "cell_type": "code",
   "execution_count": 3,
   "metadata": {},
   "outputs": [
    {
     "ename": "TypeError",
     "evalue": "list indices must be integers or slices, not Node",
     "output_type": "error",
     "traceback": [
      "\u001b[0;31m---------------------------------------------------------------------------\u001b[0m",
      "\u001b[0;31mTypeError\u001b[0m                                 Traceback (most recent call last)",
      "Cell \u001b[0;32mIn[3], line 22\u001b[0m\n\u001b[1;32m     19\u001b[0m plt\u001b[38;5;241m.\u001b[39mtitle(\u001b[38;5;124m\"\u001b[39m\u001b[38;5;124mPath of the rover\u001b[39m\u001b[38;5;124m\"\u001b[39m)\n\u001b[1;32m     21\u001b[0m \u001b[38;5;66;03m# Create path with A*\u001b[39;00m\n\u001b[0;32m---> 22\u001b[0m path \u001b[38;5;241m=\u001b[39m \u001b[43mAstar\u001b[49m\u001b[43m(\u001b[49m\u001b[43mnode0\u001b[49m\u001b[43m,\u001b[49m\u001b[43m \u001b[49m\u001b[43mnode_target\u001b[49m\u001b[43m,\u001b[49m\u001b[43m \u001b[49m\u001b[43mobstacle_map\u001b[49m\u001b[43m)\u001b[49m\n\u001b[1;32m     23\u001b[0m \u001b[38;5;66;03m# Plot path\u001b[39;00m\n\u001b[1;32m     24\u001b[0m path_coords \u001b[38;5;241m=\u001b[39m [(node\u001b[38;5;241m.\u001b[39mpos[\u001b[38;5;241m0\u001b[39m], node\u001b[38;5;241m.\u001b[39mpos[\u001b[38;5;241m1\u001b[39m]) \u001b[38;5;28;01mfor\u001b[39;00m node \u001b[38;5;129;01min\u001b[39;00m path]\n",
      "File \u001b[0;32m~/Coding/Magistrale/Robotics/Robotic-pathfinding/AStar.py:71\u001b[0m, in \u001b[0;36mAstar\u001b[0;34m(x_pos, x_target, boundary_map)\u001b[0m\n\u001b[1;32m     69\u001b[0m     tentative_gScore \u001b[38;5;241m=\u001b[39m gScore[current] \u001b[38;5;241m+\u001b[39m cost(current, neighbor)\n\u001b[1;32m     70\u001b[0m \u001b[38;5;28;01mif\u001b[39;00m neighbor \u001b[38;5;129;01mnot\u001b[39;00m \u001b[38;5;129;01min\u001b[39;00m gScore \u001b[38;5;129;01mor\u001b[39;00m tentative_gScore \u001b[38;5;241m<\u001b[39m gScore[neighbor]:\n\u001b[0;32m---> 71\u001b[0m     \u001b[43mcameFrom\u001b[49m\u001b[43m[\u001b[49m\u001b[43mneighbor\u001b[49m\u001b[43m]\u001b[49m \u001b[38;5;241m=\u001b[39m current\n\u001b[1;32m     72\u001b[0m     gScore[neighbor] \u001b[38;5;241m=\u001b[39m tentative_gScore\n\u001b[1;32m     73\u001b[0m     fScore[neighbor] \u001b[38;5;241m=\u001b[39m gScore[neighbor] \u001b[38;5;241m+\u001b[39m h_oct(neighbor)\n",
      "\u001b[0;31mTypeError\u001b[0m: list indices must be integers or slices, not Node"
     ]
    },
    {
     "data": {
      "image/png": "[encoded data removed]",
      "text/plain": [
       "<Figure size 640x480 with 1 Axes>"
      ]
     },
     "metadata": {},
     "output_type": "display_data"
    }
   ],
   "source": [
    "### TASK 1 ###\n",
    "\n",
    "# Initial and target position need to be coordinates in the grid\n",
    "P0 = np.array([42.38*10**3, 11.59*10**3, 90])  # initial position, [m, m, deg]\n",
    "[j0, i0] = coord2ij(P0[0], P0[1], X[0], Y[0])\n",
    "P_target = np.array([33.07*10**3, 19.01*10**3, 180])  # target position, [m, m, deg]\n",
    "[j_target, i_target] = coord2ij(P_target[0], P_target[1], X[0], Y[0])\n",
    "\n",
    "# Initial and target nodes in the grid\n",
    "P0 = np.array([X[i0], Y[j0], P0[2]])  # initial position, [m, m, deg]\n",
    "P_target = np.array([X[i_target], Y[j_target], P_target[2]])  # target position, [m, m, deg]\n",
    "\n",
    "# Initial and target nodes\n",
    "node0 = Node(P0)\n",
    "node_target = Node(P_target)\n",
    "\n",
    "## 1.1) Plot the trajectory of the rover in the map\n",
    "plt.figure(1)\n",
    "plt.title(\"Path of the rover\")\n",
    "\n",
    "# Create path with A*\n",
    "path = Astar(node0, node_target, obstacle_map)\n",
    "# Plot path\n",
    "path_coords = [(node.pos[0], node.pos[1]) for node in path]\n",
    "for i in range(len(path_coords)-1):\n",
    "    plt.plot([path_coords[i][0], path_coords[i+1][0]], [path_coords[i][1], path_coords[i+1][1]], 'r')\n",
    "\n",
    "plt.imshow(mars_map, cmap='gray', origin='lower')\n",
    "\n",
    "# 1.2) Plot the velocity profile of the rover\n",
    "# 1.3) Plot the steering angle profile of the rover\n",
    "# 1.4) Plot the rate of change of the steering angle profile of the rover\n"
   ]
  },
  {
   "cell_type": "code",
   "execution_count": null,
   "metadata": {},
   "outputs": [],
   "source": [
    "### TASK 2 ###\n"
   ]
  }
 ],
 "metadata": {
  "kernelspec": {
   "display_name": ".venv",
   "language": "python",
   "name": "python3"
  },
  "language_info": {
   "codemirror_mode": {
    "name": "ipython",
    "version": 3
   },
   "file_extension": ".py",
   "mimetype": "text/x-python",
   "name": "python",
   "nbconvert_exporter": "python",
   "pygments_lexer": "ipython3",
   "version": "3.11.6"
  }
 },
 "nbformat": 4,
 "nbformat_minor": 2
}
